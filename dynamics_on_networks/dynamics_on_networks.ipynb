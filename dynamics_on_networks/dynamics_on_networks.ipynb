{
 "cells": [
  {
   "cell_type": "markdown",
   "id": "0f3e973b",
   "metadata": {},
   "source": [
    "# Dynamics on Networks\n",
    "\n",
    "##### Authors: Mauricio Barahona and Robert Peach\n",
    "\n",
    "##### Motivation\n",
    "\n",
    "When studying a dynamical process, we are concerned with its behavior as a function of time, space, and its parameters. We may want to examine how many people are infected by a biological contagion and whether it persists from one season to another, whether and to what extent interacting oscillators synchronize, whether a meme on the internet becomes viral or not, and more. Common to these systems is that the dynamics are occurring on a discrete set of entities, i.e., on the nodes of a network, that are connected to each other in some non-trivial way.\n",
    "\n",
    "Many real-world systems may be described as a network of dynamically interacting entities. Social networks facilitate the propagation of rumours and the spread of pathogens; the powergrid that connect our cities and homes enable the flow of electrical energy; our economies are supported by the micro-economic trading between individuals and businesses. Common to these systems is that the dynamics are occurring on a discrete set of entities, i.e., on the nodes of a network, that are connected to each other in some non-trivial way. Understanding the dynamics of these systems is essential if we are to redesign them, or guide/control them towards different behaviours. \n",
    "\n",
    "![title](images/london_underground.gif)\n",
    "<p style=\"text-align:center\">The london underground is a physical transport system that can be modelled as a network.</p> \n",
    "\n",
    "Naturally we can ask **how non-trivial connectivity, and thus the topology of our network structures, affects dynamical processes?**\n",
    "\n",
    "\n",
    "*Note: Not only can network structure affect dynamical processes on a network, but also that dynamical processes can affect the dynamics of the network itself. For example, when a child gets the flu, he/she might not go to school for a couple of days, and this temporary change in human activity affects which social contacts take place, which can in turn affect the dynamics of disease propagation. We won't touch on the dynamics of networks, i.e., networks changing over time, but we emphasise that this is also an interesting area that is little explored in network science.*\n",
    "\n",
    "\n",
    "\n",
    "##### What do we touch on in this notebook?\n",
    "We will look at a couple of examples of fundamental dynamical phenomena over networked systems.\n",
    "\n",
    "1. We will apply the Kuramoto model on networks.\n",
    "2. Look at epidemiological infection models on networks.\n",
    "3. Understand how network topology governs dynamical processes.\n"
   ]
  },
  {
   "cell_type": "code",
   "execution_count": null,
   "id": "7ba0c162",
   "metadata": {},
   "outputs": [],
   "source": [
    "# lets make some basic imports\n",
    "from functools import partial\n",
    "\n",
    "import numpy as np\n",
    "from scipy.integrate import solve_ivp\n",
    "from tqdm import tqdm\n",
    "import networkx as nx\n",
    "import matplotlib.pyplot as plt\n",
    "import networkx as nx\n",
    "\n",
    "import random"
   ]
  },
  {
   "cell_type": "markdown",
   "id": "120aa7e9",
   "metadata": {},
   "source": [
    "## Synchronisation\n",
    "\n",
    "Synchronization is a ubiquitous phenomenon, universally found both in natural and human-engineered systems. From firing neurons to the twinkling of fireflies, from metronomes to power grids, from applauding audiences to the circadian rhythms of plants and animals. All of these systems display similar synchronization behaviors. Patterns and order magically emerge from the disordered interplay of many interacting parts, with a complexity\n",
    "which seems to give no hope for simple models. As it often happens in complex systems, however, their obvious differences fade away when the phenomenon is examined at the right scale and with the right level of abstraction. The way synchronization occurs seems to be independent of whether the agents are singing crickets, heart cells or metronomes.\n",
    "\n",
    "\n",
    "![title](images/sync.png)\n",
    "\n",
    "\n",
    "#### Systems of oscillators\n",
    "\n",
    "\n",
    "\n",
    "We can define the angle that the oscillator makes with the x-axis at some time $t$ as $\\theta(t) = \\omega t + \\theta_0$, where $ω$ is the natural frequency of the oscillator. If we have $n$ different *isolated* oscillators, each with its own natural frequency $\\omega_i ∈ R$, we can describe the evolution of the system with the ordinary system of differential equations.\n",
    "\n",
    "\\begin{align}\n",
    "    \\dot{\\theta} = \\omega\n",
    "\\end{align}\n",
    "\n",
    "\n",
    "We stress the word “isolated” because, up to this point, no interaction is considered. The\n",
    "oscillators are each evolving as by their nature, with no external disruptions!\n",
    "\n",
    "\n",
    "#### Interacting oscillators: Kuramoto model \n",
    "\n",
    "We now come to the central point of explaining how it is possible for a system of oscillators to synchronize. Why do metronomes on a moving platform, each set with its own tempo (natural frequency), synchronize after a few beats? The reason is to be found in their interactions. In each of the synchronizing systems mentioned above, one finds that the oscillators are always coupled, in the sense that they exchange information about their phase. This\n",
    "could mean different things depending on the specific system: the metronomes are coupled through the slight movements and vibrations of the moving platform, the fireflies can see each other’s light, and the applauding crowd can feel the movement of their seats induced by the applause itself. No matter how weak, interactions disrupt the natural behavior of oscillators, allowing for the emergence of a variety of interesting collective phenomena, of which synchronization is just one.\n",
    "\n",
    "The Kuramoto model consists of a population of oscillators whose phases are all-to-all coupled. Lets now modify the equation above to include this all-to-all interacting oscillators:\n",
    "\n",
    "\n",
    "\\begin{align}\n",
    "    \\dot \\theta_i = \\omega_i - \\sigma \\sum_j \\sin(\\theta_i - \\theta_j)\\, .\n",
    "    \\label{eq:kuramoto}\n",
    "\\end{align}\n",
    "\n",
    "The newly added term on the right hand side tells us that the evolution of the phase of oscillator $i$ is disrupted by the interaction between oscillator $i$ and every other oscillator $j$, modulated by the coupling or interaction strength $\\sigma > 0$. First notice that, by the properties of the sine function, the interaction between oscillators $i$ and $j$ will be 0 when $\\theta_i − \\theta_j = k\\pi$ i.e. when $\\theta_i$ and $\\theta_j$ represent the same angle (in-phase synchronization).\n",
    "\n",
    "**But is it realistic that all oscillators in, e.g., the brain, are interacting with each other?**"
   ]
  },
  {
   "cell_type": "markdown",
   "id": "878a68c0",
   "metadata": {},
   "source": [
    "When the network has an intricate topology (described by the adjacency matrix), the Kuramoto model (and its extensions) can lead to rich behavior that is not captured by the synchronized versus desynchronized dichotomy alone. \n",
    "\n",
    "![title](images/network_topology.png)\n",
    "\n",
    "\n",
    "The Kuramoto model is typically formulated for a node phase dynamical variable $\\theta \\in \\mathbb R^{n_0}$, with natural frequencies $\\omega = (\\omega_1, \\ldots, \\omega_{n_0}) \\in \\mathbb R^{n_0}$ that are sitting on the nodes of a graph $G = (V, E)$ ($|V|=n_0$, $|E|=n_1$) and interact through the graph adjacency matrix $A_{ij}\\in \\mathbb R^{n_0\\times n_0}$,\n",
    "\n",
    "\n",
    "\\begin{align}\n",
    "    \\dot \\theta_i = \\omega_i - \\sigma \\sum_j A_{ij} \\sin(\\theta_i - \\theta_j)\\, ,\n",
    "    \\label{eq:kuramoto}\n",
    "\\end{align}\n",
    "\n",
    "\n",
    "and for simplicity, we will consider a unit coupling $\\sigma=1$,\n",
    "\n",
    "\\begin{align}\n",
    "    \\dot \\theta_i = \\omega_i - \\sum_j A_{ij} \\sin(\\theta_i - \\theta_j)\\, .\n",
    "\\end{align}\n",
    "\n",
    "In the case of a fully connected network, i.e., all nodes are attached to every other node, then we return to the original Kuramoto model which is amenable to mean-field treatments. \n",
    "\n",
    "\n",
    "##### Formulating the Kuramoto model with linear algebra\n",
    "The unweighted node Kuramoto model can be equivalently formulated in vector form using the $N \\times E$ incidence matrix $B^T$ and a vector of internal frequencies $\\omega$ as\n",
    "\n",
    "\\begin{align}\n",
    "    \\dot \\theta = \\omega - B^T\\sin(B\\theta)\\, , \n",
    "    \\label{eq:incidence_kuramoto}\n",
    "\\end{align}\n",
    "\n",
    "which is approximated by the Laplacian dynamics $\\dot \\theta = \\omega - B^TB\\theta = \\omega - L\\theta$ in the limit $B\\theta\\ll 1$ (small angle approximation). \n",
    "\n",
    "\n",
    "Note: When $\\omega_i=\\omega$ for all $i$ (all the natural frequencies of the oscillators are the same), it is customary to study the node Kuramoto model in a frame rotating at $\\omega t$ and thus ignore the internal frequencies, yielding $\\dot \\theta = L\\theta$. "
   ]
  },
  {
   "cell_type": "code",
   "execution_count": null,
   "id": "ac0ae1d1",
   "metadata": {},
   "outputs": [],
   "source": [
    "# we are going to define the Kuramoto function which is an ordinary differential equation (ODE)\n",
    "def kuramoto(\n",
    "    time, phase, B=None, natural_freqs=0, alpha_1=0, sigma=1.0, state=None\n",
    "):\n",
    "    \"\"\" Kuramoto function.\"\"\"\n",
    "\n",
    "    return -natural_freqs - sigma * B.T.dot(\n",
    "        np.sin(B.dot(phase) + alpha_1)\n",
    "    )\n",
    "\n"
   ]
  },
  {
   "cell_type": "code",
   "execution_count": null,
   "id": "4873637f",
   "metadata": {},
   "outputs": [],
   "source": [
    "# since our Kuramoto function is an ODE, we need to integrate over the equation for a given initial value\n",
    "# we will numericaly integrate the ODE for a set of initial phases.\n",
    "def integrate_kuramoto(\n",
    "    B, initial_phase, t_max, n_t, natural_freqs=0, alpha_1=0, sigma=1.0\n",
    "):\n",
    "    \"\"\"Integrate the Kuramoto model.\"\"\"\n",
    "    return solve_ivp(\n",
    "        partial(\n",
    "            kuramoto,\n",
    "            B=B,\n",
    "            natural_freqs=natural_freqs,\n",
    "            alpha_1=alpha_1,\n",
    "            sigma=sigma,\n",
    "        ),\n",
    "        [0, t_max],\n",
    "        initial_phase,\n",
    "        t_eval=np.linspace(0, t_max, n_t),\n",
    "        method=\"BDF\",\n",
    "        rtol=1.0e-8,\n",
    "        atol=1.0e-8,\n",
    "    )"
   ]
  },
  {
   "cell_type": "markdown",
   "id": "22cc7b0e",
   "metadata": {},
   "source": [
    "The above integrator is trying to find $\\theta(t)$ that satisfys the differential equations, given an initial set of phases $\\theta(t_0) = \\theta_0$."
   ]
  },
  {
   "cell_type": "markdown",
   "id": "6406ad25",
   "metadata": {},
   "source": [
    "We also need a network structure, where each node will represent an oscillator and each edge acts as an interaction between oscillators."
   ]
  },
  {
   "cell_type": "code",
   "execution_count": null,
   "id": "d1bc47bc",
   "metadata": {},
   "outputs": [],
   "source": [
    "# extracting classic karate club graph\n",
    "G = nx.karate_club_graph()\n",
    "\n",
    "# extract incidence matrix and tranpose to get E x N matrix\n",
    "B = nx.incidence_matrix(G, oriented=True).T # note that this is oriented because we want the difference between their phases\n"
   ]
  },
  {
   "cell_type": "code",
   "execution_count": null,
   "id": "76059053",
   "metadata": {},
   "outputs": [],
   "source": [
    "# setting some initial parameters\n",
    "np.random.seed(1)\n",
    "\n",
    "initial_phase = np.random.uniform(low=0, high=2*np.pi, size=B.shape[1])\n",
    "\n",
    "t_max = 50\n",
    "n_t = 500\n"
   ]
  },
  {
   "cell_type": "code",
   "execution_count": null,
   "id": "d18682a9",
   "metadata": {},
   "outputs": [],
   "source": [
    "# solving system\n",
    "results = integrate_kuramoto(\n",
    "    B, initial_phase, t_max, n_t, natural_freqs=0, alpha_1=0, sigma=1.0\n",
    ")"
   ]
  },
  {
   "cell_type": "markdown",
   "id": "22bb47da",
   "metadata": {},
   "source": [
    "Lets look at how our system converges towards a sychronised system!  We will plot the sin(x) of our phase oscillators at a heatmap, and we can plot the complex plane."
   ]
  },
  {
   "cell_type": "code",
   "execution_count": null,
   "id": "b86b2f1c",
   "metadata": {},
   "outputs": [],
   "source": [
    "def plot_kuramoto(results):\n",
    "    \"\"\"Basic plot for kuramoto.\"\"\"\n",
    "    plt.figure(figsize=(10, 5))\n",
    "    plt.imshow(\n",
    "        np.sin(results.y),\n",
    "        aspect=\"auto\",\n",
    "        cmap=\"twilight_shifted\",\n",
    "        extent=(results.t[0], results.t[-1], 0, len(results.y)),\n",
    "        interpolation=\"nearest\",\n",
    "    )\n",
    "    plt.xlabel(\"time\")\n",
    "    plt.ylabel(\"node id\")\n",
    "    plt.colorbar(label='sin(theta)')\n",
    "    plt.clim([-1,1])"
   ]
  },
  {
   "cell_type": "code",
   "execution_count": null,
   "id": "5d84920c",
   "metadata": {},
   "outputs": [],
   "source": [
    "def plot_complex_plane(results, times=[0,20,50]):\n",
    "    fig, axes = plt.subplots(ncols=3, nrows=1, figsize=(15, 5),\n",
    "                             subplot_kw={\n",
    "                                 \"ylim\": (-1.1, 1.1),\n",
    "                                 \"xlim\": (-1.1, 1.1),\n",
    "                                 \"xlabel\": r'$\\cos(\\theta)$',\n",
    "                                 \"ylabel\": r'$\\sin(\\theta)$',\n",
    "                             })\n",
    "\n",
    "    for ax, time in zip(axes, times):\n",
    "        ax.plot(np.cos(results.y[:, time]),\n",
    "                np.sin(results.y[:, time]),\n",
    "                'o',\n",
    "                markersize=10)\n",
    "        ax.set_title(f'Time = {time}')\n",
    "    \n",
    "    plt.tight_layout()"
   ]
  },
  {
   "cell_type": "code",
   "execution_count": null,
   "id": "f82c7237",
   "metadata": {},
   "outputs": [],
   "source": [
    "plot_kuramoto(results)"
   ]
  },
  {
   "cell_type": "markdown",
   "id": "1f841c10",
   "metadata": {},
   "source": [
    "Notice above that we don't observe any oscillation - this is because we set the natural frequencies to zero. This has the effect of treating the oscillators in a rotating frame (we are sort of rotating with the oscillators in such a case)."
   ]
  },
  {
   "cell_type": "code",
   "execution_count": null,
   "id": "7a347e60",
   "metadata": {},
   "outputs": [],
   "source": [
    "plot_complex_plane(results)"
   ]
  },
  {
   "cell_type": "markdown",
   "id": "dd759f92",
   "metadata": {},
   "source": [
    "Notice how the above plot reaches a steady state where all oscillators (rows in the heatmap) converge towards 0 degree phase. The oscillators are all now phase-locked and synchronised, all rotating together! \n",
    "\n",
    "*Note: You might expect this plot to oscillate, but our natural frequency is set to zero.*\n",
    "\n",
    "Can we measure this convergence towards sychronisation quantitatively? Yes, we can do this using the order parameter!\n",
    "\n",
    "![title](images/kuramoto.gif)\n",
    "\n",
    "Notice how in the above gif, that as the oscillators (orange) begin to synchronise, the blue dot moves towards the outside of the unit circle. This blue dot is our 'order parameter'. We can compute the order parameter as,\n",
    "\n",
    "\\begin{align}\n",
    "r = \\left | \\frac{1}{N}\\sum_{j=1}^{N} e^{i \\theta_j} \\right |\n",
    "\\end{align}\n",
    "\n",
    "which can also be defined in terms of the graph incidence matrix as,\n",
    "\n",
    "\\begin{align}\n",
    "r = cos(B \\theta)\n",
    "\\end{align}\n",
    "\n",
    "To get a feeling for this order parameter, there is a nice applet at this link: https://mathinsight.org/applet/kuramoto_order_parameters which explains the idea further.\n"
   ]
  },
  {
   "cell_type": "code",
   "execution_count": null,
   "id": "a26af756",
   "metadata": {},
   "outputs": [],
   "source": [
    "# defining an order parameter\n",
    "def compute_order_parameter(result, B):\n",
    "    \"\"\"Compute the node Kuramoto order parameter.\"\"\"    \n",
    "    return np.cos(B.dot(result))\n"
   ]
  },
  {
   "cell_type": "code",
   "execution_count": null,
   "id": "3c254e2e",
   "metadata": {},
   "outputs": [],
   "source": [
    "#  computing order and plotting the mean over time\n",
    "order = compute_order_parameter(results['y'],B)\n",
    "plt.figure();plt.plot(order.mean(axis=0)); \n",
    "plt.ylabel('Order parameter');plt.xlabel('Time');plt.ylim([-0.1,1.1])"
   ]
  },
  {
   "cell_type": "markdown",
   "id": "50bb210b",
   "metadata": {},
   "source": [
    "Now we can start looking at more interesting scenarios!\n",
    "\n"
   ]
  },
  {
   "cell_type": "markdown",
   "id": "45df5caa",
   "metadata": {},
   "source": [
    "Lets first reduce the connection strength between oscillators..."
   ]
  },
  {
   "cell_type": "code",
   "execution_count": null,
   "id": "64155bd0",
   "metadata": {},
   "outputs": [],
   "source": [
    "# solving system with reduced sigma\n",
    "t_max = 50\n",
    "n_t = 500\n",
    "results = integrate_kuramoto(\n",
    "    B, initial_phase, t_max, n_t, natural_freqs=0, alpha_1=0, sigma=0.1\n",
    ")\n",
    "plot_kuramoto(results)\n",
    "\n",
    "order = compute_order_parameter(results['y'],B)\n",
    "plt.figure();plt.plot(order.mean(axis=0)); \n",
    "plt.ylabel('Order parameter');plt.xlabel('Time');plt.ylim([-0.1,1.1])"
   ]
  },
  {
   "cell_type": "code",
   "execution_count": null,
   "id": "f6f084e6",
   "metadata": {},
   "outputs": [],
   "source": [
    "plot_complex_plane(results, times=[0,150,300])"
   ]
  },
  {
   "cell_type": "markdown",
   "id": "6abddc33",
   "metadata": {},
   "source": [
    "Notice how it is taking longer to converge now that we reduced the interaction strength between oscillators."
   ]
  },
  {
   "cell_type": "markdown",
   "id": "ed7b6da3",
   "metadata": {},
   "source": [
    "Lets now change the natural frequencies such that they are all oscillating at 2Hz."
   ]
  },
  {
   "cell_type": "code",
   "execution_count": null,
   "id": "39ab2459",
   "metadata": {},
   "outputs": [],
   "source": [
    "# random frequencies with sigma=0.5\n",
    "natural_freqs = 2\n",
    "t_max = 50\n",
    "n_t = 500\n",
    "\n",
    "results = integrate_kuramoto(\n",
    "    B, initial_phase, t_max, n_t, natural_freqs=natural_freqs, alpha_1=0, sigma=0.3\n",
    ")\n",
    "plot_kuramoto(results)\n",
    "\n",
    "order = compute_order_parameter(results['y'],B)\n",
    "plt.figure();plt.plot(order.mean(axis=0)); \n",
    "plt.ylabel('Order parameter');plt.xlabel('Time');plt.ylim([-0.1,1.1])\n",
    "\n",
    "plot_complex_plane(results, times=[0,150,300])"
   ]
  },
  {
   "cell_type": "markdown",
   "id": "3c2822b1",
   "metadata": {},
   "source": [
    "We now see the oscillatory behaviour at 2Hz. Notice that it synchronises eventually despite having off-set phases at the beginning!\n",
    "\n",
    "What if we assign slightly different natural frequencies to each other? Can they still synchronise?"
   ]
  },
  {
   "cell_type": "code",
   "execution_count": null,
   "id": "8848e4ee",
   "metadata": {},
   "outputs": [],
   "source": [
    "# random frequencies with sigma=0.5\n",
    "natural_freqs = np.random.random(B.shape[1])\n",
    "t_max = 50\n",
    "n_t = 500\n",
    "\n",
    "results = integrate_kuramoto(\n",
    "    B, initial_phase, t_max, n_t, natural_freqs=natural_freqs, alpha_1=0, sigma=0.5\n",
    ")\n",
    "plot_kuramoto(results)\n",
    "\n",
    "order = compute_order_parameter(results['y'],B)\n",
    "plt.figure();plt.plot(order.mean(axis=0)); \n",
    "plt.ylabel('Order parameter');plt.xlabel('Time');plt.ylim([-0.1,1.1])\n",
    "\n",
    "plt.figure();plot_complex_plane(results, times=[0,150,300])"
   ]
  },
  {
   "cell_type": "markdown",
   "id": "a7a70cef",
   "metadata": {},
   "source": [
    "Lets reduce the connectivity strength further..."
   ]
  },
  {
   "cell_type": "code",
   "execution_count": null,
   "id": "94374925",
   "metadata": {},
   "outputs": [],
   "source": [
    "# random frequencies with sigma=0.1\n",
    "natural_freqs = np.random.random(B.shape[1])\n",
    "t_max = 50\n",
    "n_t = 500\n",
    "\n",
    "results = integrate_kuramoto(\n",
    "    B, initial_phase, t_max, n_t, natural_freqs=natural_freqs, alpha_1=0, sigma=0.05\n",
    ")\n",
    "plot_kuramoto(results)\n",
    "\n",
    "order = compute_order_parameter(results['y'],B)\n",
    "plt.figure();plt.plot(order.mean(axis=0)); \n",
    "\n",
    "plt.ylabel('Order parameter');plt.xlabel('Time');plt.ylim([-0.1,1.1])"
   ]
  },
  {
   "cell_type": "markdown",
   "id": "d391b835",
   "metadata": {},
   "source": [
    "Notice how our oscillators don't seem to be sychronising when sigma is too low. We need to connection strength to be sufficient to create synchronisation!"
   ]
  },
  {
   "cell_type": "markdown",
   "id": "fb4ce5c2",
   "metadata": {},
   "source": [
    "**How does the topology of our network affect the synchronisation dynamics?** Clearly the link strength is important, but if our network topology isn't random, what happens?\n",
    "\n",
    "Here, we will use a stochastic block model (generative model) to create some modular network structure!\n"
   ]
  },
  {
   "cell_type": "code",
   "execution_count": null,
   "id": "c7067da8",
   "metadata": {},
   "outputs": [],
   "source": [
    "# defining a network with 45 nodes and 3 communities\n",
    "sizes = [15, 15, 15]\n",
    "\n",
    "# probabilities of linking nodes between communities\n",
    "probs = [[0.40, 0.02, 0.02], [0.02, 0.40, 0.02], [0.02, 0.02, 0.40]]\n",
    "\n",
    "# generate network\n",
    "g = nx.stochastic_block_model(sizes, probs, seed=0)\n",
    "nx.draw(g)\n",
    "B = nx.incidence_matrix(g).T\n",
    "B.shape"
   ]
  },
  {
   "cell_type": "code",
   "execution_count": null,
   "id": "e3585ff5",
   "metadata": {},
   "outputs": [],
   "source": [
    "initial_phase = np.random.uniform(low=0, high=2*np.pi,size=B.shape[1])\n",
    "natural_freqs = np.random.random(B.shape[1])\n",
    "t_max = 100\n",
    "n_t = 400\n",
    "\n",
    "results = integrate_kuramoto(\n",
    "    B, initial_phase, t_max, n_t, natural_freqs=natural_freqs, alpha_1=0, sigma=0.1\n",
    ")\n",
    "\n",
    "plot_kuramoto(results)\n",
    "\n",
    "order = compute_order_parameter(results['y'],B)\n",
    "plt.figure();plt.plot(order.mean(axis=0)); \n",
    "\n",
    "plt.ylabel('Order parameter');plt.xlabel('Time');plt.ylim([-0.1,1.1])"
   ]
  },
  {
   "cell_type": "markdown",
   "id": "f3dd1ca6",
   "metadata": {},
   "source": [
    "Notice how the whole system is unsynchronised and unordered. However, it does seem like some oscillators are synchronised?\n",
    "\n",
    "Lets check out the order within each community! Below is a function that computes the order parameter for each cluster (where the partitioning is computed using a community detection algorithm)."
   ]
  },
  {
   "cell_type": "code",
   "execution_count": null,
   "id": "38c7f90c",
   "metadata": {},
   "outputs": [],
   "source": [
    "def compute_cluster_order_parameter(result, B, partition):\n",
    "    \"\"\"Compute the node Kuramoto order parameter for a cluster of nodes.\"\"\"    \n",
    "    \n",
    "    order = []\n",
    "    for cluster in partition:\n",
    "        order_partition = np.cos(B[:,list(cluster)].dot(result[list(cluster),:]))\n",
    "        order.append(order_partition)\n",
    "    \n",
    "    return order\n",
    "\n",
    "# compute partition using louvain algorithm\n",
    "partition = nx.algorithms.community.louvain_communities(g)\n",
    "\n",
    "# order for each cluster in the partition\n",
    "order = compute_cluster_order_parameter(results['y'], B, partition)\n",
    "\n"
   ]
  },
  {
   "cell_type": "code",
   "execution_count": null,
   "id": "fef586f2",
   "metadata": {},
   "outputs": [],
   "source": [
    "plt.plot(order[0].mean(axis=0),label='Community 1')\n",
    "plt.plot(order[1].mean(axis=0),label='Community 2')\n",
    "plt.plot(order[2].mean(axis=0),label='Community 3')\n",
    "plt.ylabel('Order parameter');plt.xlabel('Time');plt.ylim([-0.1,1.1])\n",
    "plt.legend()"
   ]
  },
  {
   "cell_type": "markdown",
   "id": "396c7a4d",
   "metadata": {},
   "source": [
    "Now we start to observe order within the communities! Suggesting within cluster synchronisation, but not between cluster synchronisation!\n",
    "\n",
    "There are many more things we can change, and some very exciting dynamics to explore. But hopefully this gives you a feeling for synchronisation models and we will move onto other things!"
   ]
  },
  {
   "cell_type": "markdown",
   "id": "2ed5e565",
   "metadata": {},
   "source": [
    "## Epidemic models\n",
    "\n",
    "Now for another dynamical model! And rather fitting since we are all sitting here with our masks, trying to prevent the spread of COVID-19.\n",
    "There is a long successful history of mathematical modelling informing policies to mitigate the impact of infectious disease. In fact, we need only look as far Prof. Neil Ferguson's influence over international covid policy through his epidemiological models!\n",
    "\n",
    "Typically, models divide the population into compartments based on infection status and use simple assumptions about mixing and movements between these compartments. Over time, these models have grown more sophisticated to more accurately incorporate the contact structure of the population and to take advantage of increased computational resources.\n",
    "\n",
    "Developing a basic model of how diseases progress within an individual and how they spread between individuals is the first important step in modelling. For example, a simplistic view of treatable/curable sexually transmitted infections is that individuals can either be susceptible (S) or infectious (I) and that upon being infected an  individual can get treatment and then return to the susceptible cohort (S) or recover (R) without further suscepbility.\n",
    "\n",
    "![title](images/gillespie.gif)\n",
    "\n",
    "\n",
    "A simple mathematical description of the spread of a disease in a population is the so-called SIR model, which divides the (fixed) population of $N$ individuals into three \"compartments\" which may vary as a function of time, $t$:\n",
    "\n",
    "1. S(t)  are those susceptible but not yet infected with the disease;\n",
    "2. I(t) is the number of infectious individuals;\n",
    "3. R(t) are those individuals who have recovered from the disease and now have immunity to it.\n",
    "\n",
    "\n",
    "The SIR model describes the change in the population (size N) of each of these compartments in terms of two parameters, $\\beta$ and $\\gamma$.:\n",
    "1. $\\beta$ describes the effective contact rate of the disease:  an infected individual comes into contact with $\\beta N$ other individuals per unit time (of which the fraction that are susceptible to contracting the disease is $S/N$).\n",
    "2. $\\gamma$ is the mean recovery rate: that is, $1/\\gamma$ is the mean period of time during which an infected individual can pass it on.\n",
    "\n",
    "\n",
    "The dynamics are then governed by the following differential equations:\n",
    "\n",
    "\\begin{align}\n",
    "\\dot{S}(t) = - \\beta I(t) \\frac{S(t)}{N} &&\n",
    "\\dot{I}(t) = - \\beta I(t) \\frac{S(t)}{N} - \\gamma I(t) &&\n",
    "\\dot{R}(t) =  \\gamma I(t)\n",
    "\\end{align}\n",
    "\n",
    "\n",
    "\n"
   ]
  },
  {
   "cell_type": "markdown",
   "id": "235f2990",
   "metadata": {},
   "source": [
    "Now we could explore another numerical solution to the above systems of analytic equations. However, we don't want to simply repeat what we did with the Kuramoto model! Instead let us look at a stochastic simulation of the epidemic model. Naturally these results should come out similarly.\n",
    "\n",
    "\n",
    "\n",
    "We are going to start with the SIR model. A very simple model where we assume that individuals are infected for exactly one unit of time and then recover with immunity. We are also ignoring the original edge weights here since our weights our now determined by the probability of infection $\\beta$.\n",
    "\n",
    "Below we have written a function that will perform an SIR simulation on a given network structure, a given infection probability $\\beta$ and a maximum number of discrete time steps. "
   ]
  },
  {
   "cell_type": "code",
   "execution_count": null,
   "id": "ad625db0",
   "metadata": {},
   "outputs": [],
   "source": [
    "import random \n",
    "from collections import defaultdict\n",
    "\n",
    "def sir_simulation(G, infection_probability = 0.5, tmax=10, initial_infected=None):\n",
    "\n",
    "    # initial infected isn't defined then randomly choose a node\n",
    "    if initial_infected is None:\n",
    "        initial_infected_nodes=random.sample(G.nodes(), 1)\n",
    "\n",
    "    I = [len(initial_infected_nodes)] # defining the number of initially infected\n",
    "    R = [0] # defining the number of initially recovered\n",
    "    S = [G.order()-I[0]-R[0]] # defining the number of initially susceptible\n",
    "    t = [0] # defining initial starting time\n",
    "\n",
    "    # define a dictionary \n",
    "    susceptible_nodes = defaultdict(lambda: True)  \n",
    "\n",
    "    # the seed nodes for our simulation are 'infected' and therefore not 'susceptible'\n",
    "    for u in initial_infected_nodes:\n",
    "        susceptible_nodes[u] = False\n",
    "\n",
    "    # converting our list of initial infected nodes into a set\n",
    "    infected_nodes = set(initial_infected_nodes)\n",
    "\n",
    "\n",
    "    # loop the simulation until we (1) run out of infected nodes or (2) run out of time.\n",
    "    while t[-1]<tmax-1:\n",
    "\n",
    "        # define an empty set of newly infected nodes for each loop\n",
    "        newly_infected_nodes = set()\n",
    "\n",
    "        # loop over all infected nodes\n",
    "        for u in infected_nodes:\n",
    "\n",
    "            # loop over neighbours of each infected node\n",
    "            for v in G.neighbors(u):\n",
    "\n",
    "                # if a neighbour is susceptible then see if we can infect\n",
    "                if susceptible_nodes[v]:\n",
    "\n",
    "                    # generate random number and ask if its smaller than infection probability\n",
    "                    if random.random()<infection_probability:\n",
    "\n",
    "                        # add newly infected node\n",
    "                        newly_infected_nodes.add(v)\n",
    "\n",
    "                        # if infected, then no longer susceptible\n",
    "                        susceptible_nodes[v] = False\n",
    "\n",
    "        # overwrite the infected nodes with the newly infected nodes\n",
    "        infected_nodes = newly_infected_nodes\n",
    "\n",
    "        # counting how many recovered, infected, and susceptible at each time point\n",
    "        R.append(R[-1]+I[-1])\n",
    "        I.append(len(infected_nodes))\n",
    "        S.append(S[-1]-I[-1])\n",
    "        t.append(t[-1]+1)\n",
    "\n",
    "    return t, S, I, R \n",
    "    "
   ]
  },
  {
   "cell_type": "code",
   "execution_count": null,
   "id": "df3a49e8",
   "metadata": {},
   "outputs": [],
   "source": [
    "# plotting function of the simulated dynamics\n",
    "def plot_sir(G,t, S, I, R ):\n",
    "    \n",
    "\n",
    "    plt.plot(t,R,label='Recovered');\n",
    "    plt.plot(t,I,label='Infected');\n",
    "    plt.plot(t,S,label='Susceptible');\n",
    "    plt.legend()\n",
    "    \n",
    "    plt.ylim([0, len(G)])\n"
   ]
  },
  {
   "cell_type": "markdown",
   "id": "b40997b0",
   "metadata": {},
   "source": [
    "Lets use the karate club and see what happens!\n"
   ]
  },
  {
   "cell_type": "code",
   "execution_count": null,
   "id": "ad69ce85",
   "metadata": {},
   "outputs": [],
   "source": [
    "G = nx.karate_club_graph()\n",
    "\n",
    "t, S, I, R  = sir_simulation(G, infection_probability=0.5)\n",
    "\n",
    "plot_sir(G, t, S, I, R)"
   ]
  },
  {
   "cell_type": "markdown",
   "id": "2c4bbf7a",
   "metadata": {},
   "source": [
    "Notice that if you run the above cell multiple times, you will get different results owing to the stochasticity of the simulated system. In light of this, lets repeat the simulation many times and see how many people ended up infected overall with varying infection probabilities!"
   ]
  },
  {
   "cell_type": "code",
   "execution_count": null,
   "id": "54c7f106",
   "metadata": {},
   "outputs": [],
   "source": [
    "n_repeats = 100\n",
    "n_samples = 10\n",
    "tmax=10\n",
    "\n",
    "probabilities = np.logspace(-2,0,n_samples)\n",
    "total_infected = np.zeros([n_repeats,n_samples])\n",
    "\n",
    "for p, prob in enumerate(probabilities):\n",
    "    for r in range(n_repeats):\n",
    "\n",
    "        # run a single simulation\n",
    "        t, S, I, R  = sir_simulation(G, infection_probability=prob, tmax=tmax)\n",
    "\n",
    "        # store all the simulations\n",
    "        total_infected[r,p] = R[-1]\n",
    "\n",
    "    "
   ]
  },
  {
   "cell_type": "code",
   "execution_count": null,
   "id": "252b2243",
   "metadata": {},
   "outputs": [],
   "source": [
    "mean_infect = total_infected.mean(axis=0)\n",
    "std_infect = total_infected.std(axis=0)\n",
    "\n",
    "plt.plot(probabilities, mean_infect)\n",
    "plt.fill_between(probabilities, mean_infect - std_infect, mean_infect + std_infect, color='b', alpha=0.2)\n",
    "plt.xscale('log')\n",
    "plt.xlabel('Infection probability beta')\n",
    "plt.ylabel('Cumulative infected')"
   ]
  },
  {
   "cell_type": "markdown",
   "id": "a93c2088",
   "metadata": {},
   "source": [
    "Notice below how we observe a sort of transition from very few being infected to all being infected as we increase the infection probability, i.e., the relationship between infection probability and total infected is not linear. There seems to be some sort of critical point where the system moves from a non-epidemic state to an epidemic state.\n",
    "\n",
    "\n",
    "*Note: In-part, the interest that epidemic spreading model have attracted within the statistical physics community stems from the close connection between these models and more standard nonequilibrium problems in statistical\n",
    "physics. In particular, the epidemic threshold concept is analogous to the concept of phase transition in non-equilibrium systems. A phase transition is defined as an abrupt change in the state (phase) of a system, characterized by qualitatively different properties.*\n",
    "\n",
    "\n"
   ]
  },
  {
   "cell_type": "markdown",
   "id": "d4a42575",
   "metadata": {},
   "source": [
    "Could we identify this critical point in our systems dynamics using the original network structure? \n",
    "\n",
    "The point at which a linearised system becomes unstable is often used to predict the epidemic threshold. We can identify this point by taking the eigendecomposition of our (unweighted) adjacency matrix and find the maximum eigenvalue:\n",
    "\n",
    "\n",
    "\\begin{align}\n",
    "\\beta_\\mathrm{crit}  = 1 / \\lambda\n",
    "\\end{align}\n"
   ]
  },
  {
   "cell_type": "code",
   "execution_count": null,
   "id": "2c2404a8",
   "metadata": {},
   "outputs": [],
   "source": [
    "A = nx.adjacency_matrix(G,weight=None) #ignore weights\n",
    "w,v = np.linalg.eigh(A.toarray())\n",
    "beta_crit = 1/np.max(w)\n",
    "print('Beta critical = ', beta_crit)\n",
    "\n",
    "mean_infect = total_infected.mean(axis=0)\n",
    "std_infect = total_infected.std(axis=0)\n",
    "\n",
    "plt.plot(probabilities, mean_infect)\n",
    "plt.fill_between(probabilities, mean_infect - std_infect, mean_infect + std_infect, color='b', alpha=0.2)\n",
    "plt.xscale('log');\n",
    "plt.vlines(beta_crit,ymin=0,ymax=len(G), color='r')"
   ]
  },
  {
   "cell_type": "markdown",
   "id": "f3c6147d",
   "metadata": {},
   "source": [
    "The prediction of $\\beta_\\mathrm{crit}$ isn't particularly good, maybe this is due to our small network size. Lets try something a bit bigger..."
   ]
  },
  {
   "cell_type": "code",
   "execution_count": null,
   "id": "e186fc40",
   "metadata": {},
   "outputs": [],
   "source": [
    "graph = nx.gnm_random_graph(200,1000)\n",
    "\n",
    "n_repeats = 100\n",
    "n_samples = 10\n",
    "\n",
    "probabilities = np.logspace(-2,0,n_samples)\n",
    "total_infected = np.zeros([n_repeats,n_samples])\n",
    "\n",
    "\n",
    "for p, prob in enumerate(probabilities):\n",
    "    for r in range(n_repeats):\n",
    "\n",
    "        # run a single simulation\n",
    "        t, S, I, R  = sir_simulation(graph, infection_probability=prob, tmax=tmax)\n",
    "\n",
    "        # store all the simulations\n",
    "        total_infected[r,p] = R[-1]\n"
   ]
  },
  {
   "cell_type": "code",
   "execution_count": null,
   "id": "4ee6f033",
   "metadata": {},
   "outputs": [],
   "source": [
    "A = nx.adjacency_matrix(graph, dtype=np.float64, weight=None) #ignore weights\n",
    "w,v = np.linalg.eigh(A.toarray())\n",
    "beta_crit = 1/np.max(w)\n",
    "print('Beta critical = ', beta_crit)\n",
    "\n",
    "mean_infect = total_infected.mean(axis=0)\n",
    "std_infect = total_infected.std(axis=0)\n",
    "\n",
    "plt.plot(probabilities, mean_infect)\n",
    "plt.fill_between(probabilities, mean_infect - std_infect, mean_infect + std_infect, color='b', alpha=0.2)\n",
    "plt.xscale('log')\n",
    "plt.vlines(beta_crit,ymin=0,ymax=len(graph), color='r')"
   ]
  },
  {
   "cell_type": "markdown",
   "id": "b4dbcb4f",
   "metadata": {},
   "source": [
    "Clearly the estimation isn't perfect, but it gives a general indication of when the infection dynamics transition to an epidemic. This is likely because the maximum eigenvalue doesn't capture enough information about the local network structure."
   ]
  },
  {
   "cell_type": "markdown",
   "id": "5959fb15",
   "metadata": {},
   "source": [
    "#### Summary of epidemics\n",
    "\n",
    "So we have seen how (very simple) epidemics can be simulated on networks. **But is this realistic?**\n",
    "How would you change things? What other aspects would you want to see in a more realistic model? Some strands of network research explore exactly this."
   ]
  },
  {
   "cell_type": "code",
   "execution_count": null,
   "id": "a87ed342",
   "metadata": {},
   "outputs": [],
   "source": []
  }
 ],
 "metadata": {
  "kernelspec": {
   "display_name": "Python 3 (ipykernel)",
   "language": "python",
   "name": "python3"
  },
  "language_info": {
   "codemirror_mode": {
    "name": "ipython",
    "version": 3
   },
   "file_extension": ".py",
   "mimetype": "text/x-python",
   "name": "python",
   "nbconvert_exporter": "python",
   "pygments_lexer": "ipython3",
   "version": "3.9.12"
  }
 },
 "nbformat": 4,
 "nbformat_minor": 5
}
